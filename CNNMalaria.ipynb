{
 "cells": [
  {
   "cell_type": "code",
   "execution_count": 24,
   "id": "003c8db3",
   "metadata": {},
   "outputs": [],
   "source": [
    "import os\n",
    "infected_path = os.path.join(\n",
    "    'cell_images', 'Parasitized')\n",
    "uninfected_path = os.path.join(\n",
    "    'cell_images', 'Uninfected')\n",
    "\n",
    "infected = os.listdir(infected_path)\n",
    "uninfected = os.listdir(uninfected_path)"
   ]
  },
  {
   "cell_type": "code",
   "execution_count": 25,
   "id": "65daa001",
   "metadata": {},
   "outputs": [
    {
     "data": {
      "text/plain": [
       "('cell_images\\\\Parasitized', 'cell_images\\\\Uninfected')"
      ]
     },
     "execution_count": 25,
     "metadata": {},
     "output_type": "execute_result"
    }
   ],
   "source": [
    "infected_path, uninfected_path"
   ]
  },
  {
   "cell_type": "code",
   "execution_count": 26,
   "id": "e4176821",
   "metadata": {},
   "outputs": [],
   "source": [
    "import tensorflow as tf\n",
    "import numpy as np\n",
    "import pandas as pd\n",
    "import matplotlib.pyplot as plt\n",
    "from PIL import Image\n",
    "import os\n",
    "import cv2\n",
    "import seaborn as sns"
   ]
  },
  {
   "cell_type": "code",
   "execution_count": 27,
   "id": "8bdda67a",
   "metadata": {},
   "outputs": [],
   "source": [
    "import matplotlib\n",
    "matplotlib.use(\"TkAgg\")"
   ]
  },
  {
   "cell_type": "code",
   "execution_count": 28,
   "id": "e3b90420",
   "metadata": {},
   "outputs": [
    {
     "name": "stdout",
     "output_type": "stream",
     "text": [
      "error\n",
      "infected done\n",
      "error\n"
     ]
    }
   ],
   "source": [
    "data = []\n",
    "labels = []\n",
    "\n",
    "\n",
    "for i in infected:\n",
    "    try:\n",
    "        image = cv2.imread(\n",
    "            'cell_images\\\\Parasitized\\\\'+i)\n",
    "        image_array = Image.fromarray(image, 'RGB')\n",
    "        resize_img = image_array.resize((50, 50))\n",
    "        rotated45 = resize_img.rotate(45)\n",
    "        rotated75 = resize_img.rotate(75)\n",
    "        blur = cv2.blur(np.array(resize_img), (10, 10))\n",
    "        data.append(np.array(resize_img))\n",
    "        data.append(np.array(rotated45))\n",
    "        data.append(np.array(rotated75))\n",
    "        data.append(np.array(blur))\n",
    "        labels.append(1)\n",
    "        labels.append(1)\n",
    "        labels.append(1)\n",
    "        labels.append(1)\n",
    "    except AttributeError:\n",
    "        print('error')\n",
    "\n",
    "print(\"infected done\")\n",
    "\n",
    "for u in uninfected:\n",
    "    try:\n",
    "        image = cv2.imread(\n",
    "            'cell_images\\\\Uninfected\\\\'+u)\n",
    "        image_array = Image.fromarray(image, 'RGB')\n",
    "        resize_img = image_array.resize((50, 50))\n",
    "        rotated45 = resize_img.rotate(45)\n",
    "        rotated75 = resize_img.rotate(75)\n",
    "        data.append(np.array(resize_img))\n",
    "        data.append(np.array(rotated45))\n",
    "        data.append(np.array(rotated75))\n",
    "        labels.append(0)\n",
    "        labels.append(0)\n",
    "        labels.append(0)\n",
    "    except AttributeError:\n",
    "        print('error')"
   ]
  },
  {
   "cell_type": "code",
   "execution_count": 29,
   "id": "4067f275",
   "metadata": {},
   "outputs": [],
   "source": [
    "cells = np.array(data)\n",
    "labels = np.array(labels)"
   ]
  },
  {
   "cell_type": "code",
   "execution_count": 30,
   "id": "afc554df",
   "metadata": {},
   "outputs": [],
   "source": [
    "plt.figure(1, figsize=(15, 9))\n",
    "n = 0\n",
    "for i in range(14):\n",
    "    n += 1\n",
    "    r = np.random.randint(0, cells.shape[0], 1)\n",
    "    plt.subplot(7, 7, n)\n",
    "    plt.subplots_adjust(hspace=0.5, wspace=0.5)\n",
    "    plt.imshow(cells[r[0]])\n",
    "    plt.title('{} : {}'.format('Infected' if labels[r[0]] == 1 else 'Unifected',\n",
    "                               labels[r[0]]))\n",
    "    plt.xticks([]), plt.yticks([])\n",
    "\n",
    "plt.show()"
   ]
  },
  {
   "cell_type": "markdown",
   "id": "cbe997b3",
   "metadata": {},
   "source": []
  },
  {
   "cell_type": "markdown",
   "id": "584b91e5",
   "metadata": {},
   "source": []
  },
  {
   "cell_type": "code",
   "execution_count": 31,
   "id": "a4fd052d",
   "metadata": {},
   "outputs": [],
   "source": [
    "# Normalizing and Randomize order of data\n",
    "\n",
    "n = np.arange(cells.shape[0])\n",
    "np.random.shuffle(n)\n",
    "cells = cells[n]\n",
    "labels = labels[n]\n",
    "cells = cells.astype(np.float32)\n",
    "labels = labels.astype(np.int32)\n",
    "cells = cells/255"
   ]
  },
  {
   "cell_type": "code",
   "execution_count": 33,
   "id": "539a1a08",
   "metadata": {},
   "outputs": [],
   "source": [
    "from sklearn.model_selection import train_test_split\n",
    "\n",
    "train_x, x, train_y, y = train_test_split(cells, labels,\n",
    "                                          test_size=0.2,\n",
    "                                          random_state=111)\n",
    "\n",
    "eval_x, test_x, eval_y, test_y = train_test_split(x, y,\n",
    "                                                  test_size=0.5,\n",
    "                                                  random_state=111)"
   ]
  },
  {
   "cell_type": "code",
   "execution_count": 34,
   "id": "0aa1f8e8",
   "metadata": {},
   "outputs": [
    {
     "name": "stdout",
     "output_type": "stream",
     "text": [
      "train data shape (77162, 50, 50, 3) ,eval data shape (9645, 50, 50, 3) , test data shape (9646, 50, 50, 3)\n"
     ]
    }
   ],
   "source": [
    "print('train data shape {} ,eval data shape {} , test data shape {}'.format(train_x.shape,\n",
    "                                                                            eval_x.shape,\n",
    "                                                                            test_x.shape))"
   ]
  },
  {
   "cell_type": "code",
   "execution_count": 35,
   "id": "30f52600",
   "metadata": {},
   "outputs": [],
   "source": [
    "tf.keras.backend.clear_session()"
   ]
  },
  {
   "cell_type": "code",
   "execution_count": 36,
   "id": "b8858075",
   "metadata": {},
   "outputs": [
    {
     "name": "stdout",
     "output_type": "stream",
     "text": [
      "Model: \"sequential\"\n",
      "_________________________________________________________________\n",
      " Layer (type)                Output Shape              Param #   \n",
      "=================================================================\n",
      " conv2d (Conv2D)             (None, 48, 48, 32)        896       \n",
      "                                                                 \n",
      " max_pooling2d (MaxPooling2D  (None, 24, 24, 32)       0         \n",
      " )                                                               \n",
      "                                                                 \n",
      " batch_normalization (BatchN  (None, 24, 24, 32)       128       \n",
      " ormalization)                                                   \n",
      "                                                                 \n",
      " dropout (Dropout)           (None, 24, 24, 32)        0         \n",
      "                                                                 \n",
      " conv2d_1 (Conv2D)           (None, 22, 22, 32)        9248      \n",
      "                                                                 \n",
      " max_pooling2d_1 (MaxPooling  (None, 11, 11, 32)       0         \n",
      " 2D)                                                             \n",
      "                                                                 \n",
      " batch_normalization_1 (Batc  (None, 11, 11, 32)       128       \n",
      " hNormalization)                                                 \n",
      "                                                                 \n",
      " dropout_1 (Dropout)         (None, 11, 11, 32)        0         \n",
      "                                                                 \n",
      " flatten (Flatten)           (None, 3872)              0         \n",
      "                                                                 \n",
      " dense (Dense)               (None, 512)               1982976   \n",
      "                                                                 \n",
      " batch_normalization_2 (Batc  (None, 512)              2048      \n",
      " hNormalization)                                                 \n",
      "                                                                 \n",
      " dropout_2 (Dropout)         (None, 512)               0         \n",
      "                                                                 \n",
      " dense_1 (Dense)             (None, 256)               131328    \n",
      "                                                                 \n",
      " batch_normalization_3 (Batc  (None, 256)              1024      \n",
      " hNormalization)                                                 \n",
      "                                                                 \n",
      " dropout_3 (Dropout)         (None, 256)               0         \n",
      "                                                                 \n",
      " dense_2 (Dense)             (None, 1)                 257       \n",
      "                                                                 \n",
      "=================================================================\n",
      "Total params: 2,128,033\n",
      "Trainable params: 2,126,369\n",
      "Non-trainable params: 1,664\n",
      "_________________________________________________________________\n",
      "None\n"
     ]
    }
   ],
   "source": [
    "import keras\n",
    "model = keras.Sequential([\n",
    "    keras.layers.Conv2D(32, (3, 3), activation='relu', input_shape=(50, 50, 3)),\n",
    "    keras.layers.MaxPooling2D((2, 2)),\n",
    "    keras.layers.BatchNormalization(axis = -1),\n",
    "    keras.layers.Dropout(0.2),\n",
    "    keras.layers.Conv2D(32, (3, 3), activation='relu'),\n",
    "    keras.layers.MaxPooling2D((2, 2)),\n",
    "    keras.layers.BatchNormalization(axis = -1),\n",
    "    keras.layers.Dropout(0.2),\n",
    "    keras.layers.Flatten(),\n",
    "    keras.layers.Dense(activation='relu', units = 512),\n",
    "    keras.layers.BatchNormalization(axis = -1),\n",
    "    keras.layers.Dropout(0.2),\n",
    "    keras.layers.Dense(activation='relu', units = 256),\n",
    "    keras.layers.BatchNormalization(axis = -1),\n",
    "    keras.layers.Dropout(0.2),\n",
    "    keras.layers.Dense(activation='sigmoid', units = 1)\n",
    "])\n",
    "\n",
    "model.compile(optimizer='adam', loss = 'binary_crossentropy', metrics=['accuracy'])\n",
    "print(model.summary())\n"
   ]
  },
  {
   "cell_type": "code",
   "execution_count": 37,
   "id": "6ce7c33c",
   "metadata": {},
   "outputs": [
    {
     "name": "stdout",
     "output_type": "stream",
     "text": [
      "Epoch 1/3\n",
      "2412/2412 [==============================] - 224s 92ms/step - loss: 0.2208 - accuracy: 0.9135 - val_loss: 0.1524 - val_accuracy: 0.9485\n",
      "Epoch 2/3\n",
      "2412/2412 [==============================] - 247s 102ms/step - loss: 0.1316 - accuracy: 0.9553 - val_loss: 0.2101 - val_accuracy: 0.9233\n",
      "Epoch 3/3\n",
      "2412/2412 [==============================] - 191s 79ms/step - loss: 0.1216 - accuracy: 0.9587 - val_loss: 0.1409 - val_accuracy: 0.9520\n"
     ]
    }
   ],
   "source": [
    "history = model.fit(train_x, train_y, epochs=3, validation_data=(test_x, test_y))"
   ]
  },
  {
   "cell_type": "code",
   "execution_count": 38,
   "id": "fb5b306e",
   "metadata": {},
   "outputs": [
    {
     "name": "stdout",
     "output_type": "stream",
     "text": [
      "302/302 - 3s - loss: 0.1409 - accuracy: 0.9520 - 3s/epoch - 11ms/step\n",
      "302/302 [==============================] - 4s 12ms/step\n"
     ]
    }
   ],
   "source": [
    "test_loss, test_acc = model.evaluate(test_x, test_y, verbose=2)\n",
    "predictions = model.predict(test_x)"
   ]
  },
  {
   "cell_type": "code",
   "execution_count": 39,
   "id": "e95802c5",
   "metadata": {},
   "outputs": [
    {
     "data": {
      "text/plain": [
       "array([[0],\n",
       "       [0],\n",
       "       [0],\n",
       "       ...,\n",
       "       [0],\n",
       "       [0],\n",
       "       [1]])"
      ]
     },
     "execution_count": 39,
     "metadata": {},
     "output_type": "execute_result"
    }
   ],
   "source": [
    "predictions = (predictions >= 0.5).astype(int)\n",
    "predictions"
   ]
  },
  {
   "cell_type": "code",
   "execution_count": 40,
   "id": "5902c39a",
   "metadata": {},
   "outputs": [
    {
     "data": {
      "text/plain": [
       "array([[3963,  127],\n",
       "       [ 336, 5220]], dtype=int64)"
      ]
     },
     "execution_count": 40,
     "metadata": {},
     "output_type": "execute_result"
    }
   ],
   "source": [
    "from sklearn.metrics import confusion_matrix\n",
    "cm = confusion_matrix(test_y, predictions)\n",
    "cm"
   ]
  },
  {
   "cell_type": "code",
   "execution_count": 41,
   "id": "42359e79",
   "metadata": {},
   "outputs": [
    {
     "data": {
      "text/plain": [
       "(0.95200082935932, 0.9762483635683561)"
      ]
     },
     "execution_count": 41,
     "metadata": {},
     "output_type": "execute_result"
    }
   ],
   "source": [
    "from sklearn.metrics import accuracy_score,precision_score\n",
    "accuracy_score(test_y,predictions), precision_score(test_y,predictions)"
   ]
  },
  {
   "cell_type": "code",
   "execution_count": null,
   "id": "ee9bcd2c",
   "metadata": {},
   "outputs": [],
   "source": [
    "plt.figure(1 , figsize = (15 , 9))\n",
    "n = 0 \n",
    "for i in range(28):\n",
    "    n += 1 \n",
    "    r = np.random.randint( 0  , test_x.shape[0] , 1)\n",
    "    plt.subplot(7 , 7 , n)\n",
    "    plt.subplots_adjust(hspace = 0.5 , wspace = 0.5)\n",
    "    plt.imshow(test_x[r[0]])\n",
    "    plt.title('true {} : pred {}'.format(test_y[r[0]] , predictions[r[0]]) )\n",
    "    plt.xticks([]) , plt.yticks([])\n",
    "\n",
    "plt.show()"
   ]
  }
 ],
 "metadata": {
  "kernelspec": {
   "display_name": "Python 3 (ipykernel)",
   "language": "python",
   "name": "python3"
  },
  "language_info": {
   "codemirror_mode": {
    "name": "ipython",
    "version": 3
   },
   "file_extension": ".py",
   "mimetype": "text/x-python",
   "name": "python",
   "nbconvert_exporter": "python",
   "pygments_lexer": "ipython3",
   "version": "3.10.11"
  }
 },
 "nbformat": 4,
 "nbformat_minor": 5
}
